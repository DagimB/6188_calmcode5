{
 "cells": [
  {
   "cell_type": "markdown",
   "metadata": {},
   "source": [
    "In this notebook, we are going to deal with json with a nested structure. We are also going to build a project that works like pandas that can deal with these dictionary."
   ]
  },
  {
   "cell_type": "code",
   "execution_count": 1,
   "metadata": {},
   "outputs": [],
   "source": [
    "import json\n",
    "import pathlib"
   ]
  },
  {
   "cell_type": "code",
   "execution_count": 5,
   "metadata": {},
   "outputs": [],
   "source": [
    "poke_dict = json.loads(pathlib.Path(\"data/pokemon.json\").read_text())"
   ]
  },
  {
   "cell_type": "markdown",
   "metadata": {},
   "source": [
    "This is the json file we will be working with."
   ]
  },
  {
   "cell_type": "code",
   "execution_count": 6,
   "metadata": {},
   "outputs": [
    {
     "data": {
      "text/plain": [
       "[{'name': 'Bulbasaur',\n",
       "  'type': ['Grass', 'Poison'],\n",
       "  'total': 318,\n",
       "  'hp': 45,\n",
       "  'attack': 49},\n",
       " {'name': 'Ivysaur',\n",
       "  'type': ['Grass', 'Poison'],\n",
       "  'total': 405,\n",
       "  'hp': 60,\n",
       "  'attack': 62},\n",
       " {'name': 'Venusaur',\n",
       "  'type': ['Grass', 'Poison'],\n",
       "  'total': 525,\n",
       "  'hp': 80,\n",
       "  'attack': 82}]"
      ]
     },
     "execution_count": 6,
     "metadata": {},
     "output_type": "execute_result"
    }
   ],
   "source": [
    "poke_dict[:3]"
   ]
  },
  {
   "cell_type": "markdown",
   "metadata": {},
   "source": [
    "We want to be able query it easily.\n",
    "\n",
    "Lets try to query all grass type pokemon"
   ]
  },
  {
   "cell_type": "code",
   "execution_count": 7,
   "metadata": {},
   "outputs": [],
   "source": [
    "class Clumper:\n",
    "    def __init__(self, blob):\n",
    "        self.blob = blob\n",
    "    \n",
    "    def keep(self, func):\n",
    "        return [d for d in self.blob if func(d)]"
   ]
  },
  {
   "cell_type": "markdown",
   "metadata": {},
   "source": [
    "This class can now give me all the pokemon whose type is 'Grass'"
   ]
  },
  {
   "cell_type": "code",
   "execution_count": 8,
   "metadata": {},
   "outputs": [
    {
     "data": {
      "text/plain": [
       "[{'name': 'Bulbasaur',\n",
       "  'type': ['Grass', 'Poison'],\n",
       "  'total': 318,\n",
       "  'hp': 45,\n",
       "  'attack': 49},\n",
       " {'name': 'Ivysaur',\n",
       "  'type': ['Grass', 'Poison'],\n",
       "  'total': 405,\n",
       "  'hp': 60,\n",
       "  'attack': 62},\n",
       " {'name': 'Venusaur',\n",
       "  'type': ['Grass', 'Poison'],\n",
       "  'total': 525,\n",
       "  'hp': 80,\n",
       "  'attack': 82},\n",
       " {'name': 'VenusaurMega Venusaur',\n",
       "  'type': ['Grass', 'Poison'],\n",
       "  'total': 625,\n",
       "  'hp': 80,\n",
       "  'attack': 100},\n",
       " {'name': 'Oddish',\n",
       "  'type': ['Grass', 'Poison'],\n",
       "  'total': 320,\n",
       "  'hp': 45,\n",
       "  'attack': 50},\n",
       " {'name': 'Gloom',\n",
       "  'type': ['Grass', 'Poison'],\n",
       "  'total': 395,\n",
       "  'hp': 60,\n",
       "  'attack': 65},\n",
       " {'name': 'Vileplume',\n",
       "  'type': ['Grass', 'Poison'],\n",
       "  'total': 490,\n",
       "  'hp': 75,\n",
       "  'attack': 80},\n",
       " {'name': 'Paras',\n",
       "  'type': ['Bug', 'Grass'],\n",
       "  'total': 285,\n",
       "  'hp': 35,\n",
       "  'attack': 70},\n",
       " {'name': 'Parasect',\n",
       "  'type': ['Bug', 'Grass'],\n",
       "  'total': 405,\n",
       "  'hp': 60,\n",
       "  'attack': 95},\n",
       " {'name': 'Bellsprout',\n",
       "  'type': ['Grass', 'Poison'],\n",
       "  'total': 300,\n",
       "  'hp': 50,\n",
       "  'attack': 75},\n",
       " {'name': 'Weepinbell',\n",
       "  'type': ['Grass', 'Poison'],\n",
       "  'total': 390,\n",
       "  'hp': 65,\n",
       "  'attack': 90},\n",
       " {'name': 'Victreebel',\n",
       "  'type': ['Grass', 'Poison'],\n",
       "  'total': 490,\n",
       "  'hp': 80,\n",
       "  'attack': 105},\n",
       " {'name': 'Exeggcute',\n",
       "  'type': ['Grass', 'Psychic'],\n",
       "  'total': 325,\n",
       "  'hp': 60,\n",
       "  'attack': 40},\n",
       " {'name': 'Exeggutor',\n",
       "  'type': ['Grass', 'Psychic'],\n",
       "  'total': 520,\n",
       "  'hp': 95,\n",
       "  'attack': 95},\n",
       " {'name': 'Tangela', 'type': ['Grass'], 'total': 435, 'hp': 65, 'attack': 55},\n",
       " {'name': 'Chikorita',\n",
       "  'type': ['Grass'],\n",
       "  'total': 318,\n",
       "  'hp': 45,\n",
       "  'attack': 49},\n",
       " {'name': 'Bayleef', 'type': ['Grass'], 'total': 405, 'hp': 60, 'attack': 62},\n",
       " {'name': 'Meganium', 'type': ['Grass'], 'total': 525, 'hp': 80, 'attack': 82},\n",
       " {'name': 'Bellossom',\n",
       "  'type': ['Grass'],\n",
       "  'total': 490,\n",
       "  'hp': 75,\n",
       "  'attack': 80},\n",
       " {'name': 'Hoppip',\n",
       "  'type': ['Grass', 'Flying'],\n",
       "  'total': 250,\n",
       "  'hp': 35,\n",
       "  'attack': 35},\n",
       " {'name': 'Skiploom',\n",
       "  'type': ['Grass', 'Flying'],\n",
       "  'total': 340,\n",
       "  'hp': 55,\n",
       "  'attack': 45},\n",
       " {'name': 'Jumpluff',\n",
       "  'type': ['Grass', 'Flying'],\n",
       "  'total': 460,\n",
       "  'hp': 75,\n",
       "  'attack': 55},\n",
       " {'name': 'Sunkern', 'type': ['Grass'], 'total': 180, 'hp': 30, 'attack': 30},\n",
       " {'name': 'Sunflora', 'type': ['Grass'], 'total': 425, 'hp': 75, 'attack': 75},\n",
       " {'name': 'Celebi',\n",
       "  'type': ['Psychic', 'Grass'],\n",
       "  'total': 600,\n",
       "  'hp': 100,\n",
       "  'attack': 100},\n",
       " {'name': 'Treecko', 'type': ['Grass'], 'total': 310, 'hp': 40, 'attack': 45},\n",
       " {'name': 'Grovyle', 'type': ['Grass'], 'total': 405, 'hp': 50, 'attack': 65},\n",
       " {'name': 'Sceptile', 'type': ['Grass'], 'total': 530, 'hp': 70, 'attack': 85},\n",
       " {'name': 'SceptileMega Sceptile',\n",
       "  'type': ['Grass', 'Dragon'],\n",
       "  'total': 630,\n",
       "  'hp': 70,\n",
       "  'attack': 110},\n",
       " {'name': 'Lotad',\n",
       "  'type': ['Water', 'Grass'],\n",
       "  'total': 220,\n",
       "  'hp': 40,\n",
       "  'attack': 30},\n",
       " {'name': 'Lombre',\n",
       "  'type': ['Water', 'Grass'],\n",
       "  'total': 340,\n",
       "  'hp': 60,\n",
       "  'attack': 50},\n",
       " {'name': 'Ludicolo',\n",
       "  'type': ['Water', 'Grass'],\n",
       "  'total': 480,\n",
       "  'hp': 80,\n",
       "  'attack': 70},\n",
       " {'name': 'Seedot', 'type': ['Grass'], 'total': 220, 'hp': 40, 'attack': 40},\n",
       " {'name': 'Nuzleaf',\n",
       "  'type': ['Grass', 'Dark'],\n",
       "  'total': 340,\n",
       "  'hp': 70,\n",
       "  'attack': 70},\n",
       " {'name': 'Shiftry',\n",
       "  'type': ['Grass', 'Dark'],\n",
       "  'total': 480,\n",
       "  'hp': 90,\n",
       "  'attack': 100},\n",
       " {'name': 'Shroomish',\n",
       "  'type': ['Grass'],\n",
       "  'total': 295,\n",
       "  'hp': 60,\n",
       "  'attack': 40},\n",
       " {'name': 'Breloom',\n",
       "  'type': ['Grass', 'Fighting'],\n",
       "  'total': 460,\n",
       "  'hp': 60,\n",
       "  'attack': 130},\n",
       " {'name': 'Roselia',\n",
       "  'type': ['Grass', 'Poison'],\n",
       "  'total': 400,\n",
       "  'hp': 50,\n",
       "  'attack': 60},\n",
       " {'name': 'Cacnea', 'type': ['Grass'], 'total': 335, 'hp': 50, 'attack': 85},\n",
       " {'name': 'Cacturne',\n",
       "  'type': ['Grass', 'Dark'],\n",
       "  'total': 475,\n",
       "  'hp': 70,\n",
       "  'attack': 115},\n",
       " {'name': 'Lileep',\n",
       "  'type': ['Rock', 'Grass'],\n",
       "  'total': 355,\n",
       "  'hp': 66,\n",
       "  'attack': 41},\n",
       " {'name': 'Cradily',\n",
       "  'type': ['Rock', 'Grass'],\n",
       "  'total': 495,\n",
       "  'hp': 86,\n",
       "  'attack': 81},\n",
       " {'name': 'Tropius',\n",
       "  'type': ['Grass', 'Flying'],\n",
       "  'total': 460,\n",
       "  'hp': 99,\n",
       "  'attack': 68},\n",
       " {'name': 'Turtwig', 'type': ['Grass'], 'total': 318, 'hp': 55, 'attack': 68},\n",
       " {'name': 'Grotle', 'type': ['Grass'], 'total': 405, 'hp': 75, 'attack': 89},\n",
       " {'name': 'Torterra',\n",
       "  'type': ['Grass', 'Ground'],\n",
       "  'total': 525,\n",
       "  'hp': 95,\n",
       "  'attack': 109},\n",
       " {'name': 'Budew',\n",
       "  'type': ['Grass', 'Poison'],\n",
       "  'total': 280,\n",
       "  'hp': 40,\n",
       "  'attack': 30},\n",
       " {'name': 'Roserade',\n",
       "  'type': ['Grass', 'Poison'],\n",
       "  'total': 515,\n",
       "  'hp': 60,\n",
       "  'attack': 70},\n",
       " {'name': 'WormadamPlant Cloak',\n",
       "  'type': ['Bug', 'Grass'],\n",
       "  'total': 424,\n",
       "  'hp': 60,\n",
       "  'attack': 59},\n",
       " {'name': 'Cherubi', 'type': ['Grass'], 'total': 275, 'hp': 45, 'attack': 35},\n",
       " {'name': 'Cherrim', 'type': ['Grass'], 'total': 450, 'hp': 70, 'attack': 60},\n",
       " {'name': 'Carnivine',\n",
       "  'type': ['Grass'],\n",
       "  'total': 454,\n",
       "  'hp': 74,\n",
       "  'attack': 100},\n",
       " {'name': 'Snover',\n",
       "  'type': ['Grass', 'Ice'],\n",
       "  'total': 334,\n",
       "  'hp': 60,\n",
       "  'attack': 62},\n",
       " {'name': 'Abomasnow',\n",
       "  'type': ['Grass', 'Ice'],\n",
       "  'total': 494,\n",
       "  'hp': 90,\n",
       "  'attack': 92},\n",
       " {'name': 'AbomasnowMega Abomasnow',\n",
       "  'type': ['Grass', 'Ice'],\n",
       "  'total': 594,\n",
       "  'hp': 90,\n",
       "  'attack': 132},\n",
       " {'name': 'Tangrowth',\n",
       "  'type': ['Grass'],\n",
       "  'total': 535,\n",
       "  'hp': 100,\n",
       "  'attack': 100},\n",
       " {'name': 'Leafeon', 'type': ['Grass'], 'total': 525, 'hp': 65, 'attack': 110},\n",
       " {'name': 'RotomMow Rotom',\n",
       "  'type': ['Electric', 'Grass'],\n",
       "  'total': 520,\n",
       "  'hp': 50,\n",
       "  'attack': 65},\n",
       " {'name': 'ShayminLand Forme',\n",
       "  'type': ['Grass'],\n",
       "  'total': 600,\n",
       "  'hp': 100,\n",
       "  'attack': 100},\n",
       " {'name': 'ShayminSky Forme',\n",
       "  'type': ['Grass', 'Flying'],\n",
       "  'total': 600,\n",
       "  'hp': 100,\n",
       "  'attack': 103},\n",
       " {'name': 'Snivy', 'type': ['Grass'], 'total': 308, 'hp': 45, 'attack': 45},\n",
       " {'name': 'Servine', 'type': ['Grass'], 'total': 413, 'hp': 60, 'attack': 60},\n",
       " {'name': 'Serperior',\n",
       "  'type': ['Grass'],\n",
       "  'total': 528,\n",
       "  'hp': 75,\n",
       "  'attack': 75},\n",
       " {'name': 'Pansage', 'type': ['Grass'], 'total': 316, 'hp': 50, 'attack': 53},\n",
       " {'name': 'Simisage', 'type': ['Grass'], 'total': 498, 'hp': 75, 'attack': 98},\n",
       " {'name': 'Sewaddle',\n",
       "  'type': ['Bug', 'Grass'],\n",
       "  'total': 310,\n",
       "  'hp': 45,\n",
       "  'attack': 53},\n",
       " {'name': 'Swadloon',\n",
       "  'type': ['Bug', 'Grass'],\n",
       "  'total': 380,\n",
       "  'hp': 55,\n",
       "  'attack': 63},\n",
       " {'name': 'Leavanny',\n",
       "  'type': ['Bug', 'Grass'],\n",
       "  'total': 500,\n",
       "  'hp': 75,\n",
       "  'attack': 103},\n",
       " {'name': 'Cottonee',\n",
       "  'type': ['Grass', 'Fairy'],\n",
       "  'total': 280,\n",
       "  'hp': 40,\n",
       "  'attack': 27},\n",
       " {'name': 'Whimsicott',\n",
       "  'type': ['Grass', 'Fairy'],\n",
       "  'total': 480,\n",
       "  'hp': 60,\n",
       "  'attack': 67},\n",
       " {'name': 'Petilil', 'type': ['Grass'], 'total': 280, 'hp': 45, 'attack': 35},\n",
       " {'name': 'Lilligant',\n",
       "  'type': ['Grass'],\n",
       "  'total': 480,\n",
       "  'hp': 70,\n",
       "  'attack': 60},\n",
       " {'name': 'Maractus', 'type': ['Grass'], 'total': 461, 'hp': 75, 'attack': 86},\n",
       " {'name': 'Deerling',\n",
       "  'type': ['Normal', 'Grass'],\n",
       "  'total': 335,\n",
       "  'hp': 60,\n",
       "  'attack': 60},\n",
       " {'name': 'Sawsbuck',\n",
       "  'type': ['Normal', 'Grass'],\n",
       "  'total': 475,\n",
       "  'hp': 80,\n",
       "  'attack': 100},\n",
       " {'name': 'Foongus',\n",
       "  'type': ['Grass', 'Poison'],\n",
       "  'total': 294,\n",
       "  'hp': 69,\n",
       "  'attack': 55},\n",
       " {'name': 'Amoonguss',\n",
       "  'type': ['Grass', 'Poison'],\n",
       "  'total': 464,\n",
       "  'hp': 114,\n",
       "  'attack': 85},\n",
       " {'name': 'Ferroseed',\n",
       "  'type': ['Grass', 'Steel'],\n",
       "  'total': 305,\n",
       "  'hp': 44,\n",
       "  'attack': 50},\n",
       " {'name': 'Ferrothorn',\n",
       "  'type': ['Grass', 'Steel'],\n",
       "  'total': 489,\n",
       "  'hp': 74,\n",
       "  'attack': 94},\n",
       " {'name': 'Virizion',\n",
       "  'type': ['Grass', 'Fighting'],\n",
       "  'total': 580,\n",
       "  'hp': 91,\n",
       "  'attack': 90},\n",
       " {'name': 'Chespin', 'type': ['Grass'], 'total': 313, 'hp': 56, 'attack': 61},\n",
       " {'name': 'Quilladin',\n",
       "  'type': ['Grass'],\n",
       "  'total': 405,\n",
       "  'hp': 61,\n",
       "  'attack': 78},\n",
       " {'name': 'Chesnaught',\n",
       "  'type': ['Grass', 'Fighting'],\n",
       "  'total': 530,\n",
       "  'hp': 88,\n",
       "  'attack': 107},\n",
       " {'name': 'Skiddo', 'type': ['Grass'], 'total': 350, 'hp': 66, 'attack': 65},\n",
       " {'name': 'Gogoat', 'type': ['Grass'], 'total': 531, 'hp': 123, 'attack': 100},\n",
       " {'name': 'Phantump',\n",
       "  'type': ['Ghost', 'Grass'],\n",
       "  'total': 309,\n",
       "  'hp': 43,\n",
       "  'attack': 70},\n",
       " {'name': 'Trevenant',\n",
       "  'type': ['Ghost', 'Grass'],\n",
       "  'total': 474,\n",
       "  'hp': 85,\n",
       "  'attack': 110},\n",
       " {'name': 'PumpkabooAverage Size',\n",
       "  'type': ['Ghost', 'Grass'],\n",
       "  'total': 335,\n",
       "  'hp': 49,\n",
       "  'attack': 66},\n",
       " {'name': 'PumpkabooSmall Size',\n",
       "  'type': ['Ghost', 'Grass'],\n",
       "  'total': 335,\n",
       "  'hp': 44,\n",
       "  'attack': 66},\n",
       " {'name': 'PumpkabooLarge Size',\n",
       "  'type': ['Ghost', 'Grass'],\n",
       "  'total': 335,\n",
       "  'hp': 54,\n",
       "  'attack': 66},\n",
       " {'name': 'PumpkabooSuper Size',\n",
       "  'type': ['Ghost', 'Grass'],\n",
       "  'total': 335,\n",
       "  'hp': 59,\n",
       "  'attack': 66},\n",
       " {'name': 'GourgeistAverage Size',\n",
       "  'type': ['Ghost', 'Grass'],\n",
       "  'total': 494,\n",
       "  'hp': 65,\n",
       "  'attack': 90},\n",
       " {'name': 'GourgeistSmall Size',\n",
       "  'type': ['Ghost', 'Grass'],\n",
       "  'total': 494,\n",
       "  'hp': 55,\n",
       "  'attack': 85},\n",
       " {'name': 'GourgeistLarge Size',\n",
       "  'type': ['Ghost', 'Grass'],\n",
       "  'total': 494,\n",
       "  'hp': 75,\n",
       "  'attack': 95},\n",
       " {'name': 'GourgeistSuper Size',\n",
       "  'type': ['Ghost', 'Grass'],\n",
       "  'total': 494,\n",
       "  'hp': 85,\n",
       "  'attack': 100}]"
      ]
     },
     "execution_count": 8,
     "metadata": {},
     "output_type": "execute_result"
    }
   ],
   "source": [
    "Clumper(poke_dict).keep(lambda d: 'Grass' in d['type'])"
   ]
  },
  {
   "cell_type": "markdown",
   "metadata": {},
   "source": [
    "Now lets make it where we can chain a couple of the keep()'s together. The issue is that the list method in the class cannot append a keep method on top.\n",
    "\n",
    "We can fix this by making the keep method returns a clumper object so that now we can chain them"
   ]
  },
  {
   "cell_type": "code",
   "execution_count": 10,
   "metadata": {},
   "outputs": [],
   "source": [
    "class Clumper:\n",
    "    def __init__(self, blob):\n",
    "        self.blob = blob\n",
    "    \n",
    "    def keep(self, func):\n",
    "        return Clumper([d for d in self.blob if func(d)])"
   ]
  },
  {
   "cell_type": "markdown",
   "metadata": {},
   "source": [
    "I can now call all pokemon that are both Grass type and have hp greater less than 60"
   ]
  },
  {
   "cell_type": "code",
   "execution_count": 11,
   "metadata": {},
   "outputs": [
    {
     "data": {
      "text/plain": [
       "[{'name': 'Bulbasaur',\n",
       "  'type': ['Grass', 'Poison'],\n",
       "  'total': 318,\n",
       "  'hp': 45,\n",
       "  'attack': 49},\n",
       " {'name': 'Oddish',\n",
       "  'type': ['Grass', 'Poison'],\n",
       "  'total': 320,\n",
       "  'hp': 45,\n",
       "  'attack': 50},\n",
       " {'name': 'Paras',\n",
       "  'type': ['Bug', 'Grass'],\n",
       "  'total': 285,\n",
       "  'hp': 35,\n",
       "  'attack': 70},\n",
       " {'name': 'Bellsprout',\n",
       "  'type': ['Grass', 'Poison'],\n",
       "  'total': 300,\n",
       "  'hp': 50,\n",
       "  'attack': 75},\n",
       " {'name': 'Chikorita',\n",
       "  'type': ['Grass'],\n",
       "  'total': 318,\n",
       "  'hp': 45,\n",
       "  'attack': 49},\n",
       " {'name': 'Hoppip',\n",
       "  'type': ['Grass', 'Flying'],\n",
       "  'total': 250,\n",
       "  'hp': 35,\n",
       "  'attack': 35},\n",
       " {'name': 'Skiploom',\n",
       "  'type': ['Grass', 'Flying'],\n",
       "  'total': 340,\n",
       "  'hp': 55,\n",
       "  'attack': 45},\n",
       " {'name': 'Sunkern', 'type': ['Grass'], 'total': 180, 'hp': 30, 'attack': 30},\n",
       " {'name': 'Treecko', 'type': ['Grass'], 'total': 310, 'hp': 40, 'attack': 45},\n",
       " {'name': 'Grovyle', 'type': ['Grass'], 'total': 405, 'hp': 50, 'attack': 65},\n",
       " {'name': 'Lotad',\n",
       "  'type': ['Water', 'Grass'],\n",
       "  'total': 220,\n",
       "  'hp': 40,\n",
       "  'attack': 30},\n",
       " {'name': 'Seedot', 'type': ['Grass'], 'total': 220, 'hp': 40, 'attack': 40},\n",
       " {'name': 'Roselia',\n",
       "  'type': ['Grass', 'Poison'],\n",
       "  'total': 400,\n",
       "  'hp': 50,\n",
       "  'attack': 60},\n",
       " {'name': 'Cacnea', 'type': ['Grass'], 'total': 335, 'hp': 50, 'attack': 85},\n",
       " {'name': 'Turtwig', 'type': ['Grass'], 'total': 318, 'hp': 55, 'attack': 68},\n",
       " {'name': 'Budew',\n",
       "  'type': ['Grass', 'Poison'],\n",
       "  'total': 280,\n",
       "  'hp': 40,\n",
       "  'attack': 30},\n",
       " {'name': 'Cherubi', 'type': ['Grass'], 'total': 275, 'hp': 45, 'attack': 35},\n",
       " {'name': 'RotomMow Rotom',\n",
       "  'type': ['Electric', 'Grass'],\n",
       "  'total': 520,\n",
       "  'hp': 50,\n",
       "  'attack': 65},\n",
       " {'name': 'Snivy', 'type': ['Grass'], 'total': 308, 'hp': 45, 'attack': 45},\n",
       " {'name': 'Pansage', 'type': ['Grass'], 'total': 316, 'hp': 50, 'attack': 53},\n",
       " {'name': 'Sewaddle',\n",
       "  'type': ['Bug', 'Grass'],\n",
       "  'total': 310,\n",
       "  'hp': 45,\n",
       "  'attack': 53},\n",
       " {'name': 'Swadloon',\n",
       "  'type': ['Bug', 'Grass'],\n",
       "  'total': 380,\n",
       "  'hp': 55,\n",
       "  'attack': 63},\n",
       " {'name': 'Cottonee',\n",
       "  'type': ['Grass', 'Fairy'],\n",
       "  'total': 280,\n",
       "  'hp': 40,\n",
       "  'attack': 27},\n",
       " {'name': 'Petilil', 'type': ['Grass'], 'total': 280, 'hp': 45, 'attack': 35},\n",
       " {'name': 'Ferroseed',\n",
       "  'type': ['Grass', 'Steel'],\n",
       "  'total': 305,\n",
       "  'hp': 44,\n",
       "  'attack': 50},\n",
       " {'name': 'Chespin', 'type': ['Grass'], 'total': 313, 'hp': 56, 'attack': 61},\n",
       " {'name': 'Phantump',\n",
       "  'type': ['Ghost', 'Grass'],\n",
       "  'total': 309,\n",
       "  'hp': 43,\n",
       "  'attack': 70},\n",
       " {'name': 'PumpkabooAverage Size',\n",
       "  'type': ['Ghost', 'Grass'],\n",
       "  'total': 335,\n",
       "  'hp': 49,\n",
       "  'attack': 66},\n",
       " {'name': 'PumpkabooSmall Size',\n",
       "  'type': ['Ghost', 'Grass'],\n",
       "  'total': 335,\n",
       "  'hp': 44,\n",
       "  'attack': 66},\n",
       " {'name': 'PumpkabooLarge Size',\n",
       "  'type': ['Ghost', 'Grass'],\n",
       "  'total': 335,\n",
       "  'hp': 54,\n",
       "  'attack': 66},\n",
       " {'name': 'PumpkabooSuper Size',\n",
       "  'type': ['Ghost', 'Grass'],\n",
       "  'total': 335,\n",
       "  'hp': 59,\n",
       "  'attack': 66},\n",
       " {'name': 'GourgeistSmall Size',\n",
       "  'type': ['Ghost', 'Grass'],\n",
       "  'total': 494,\n",
       "  'hp': 55,\n",
       "  'attack': 85}]"
      ]
     },
     "execution_count": 11,
     "metadata": {},
     "output_type": "execute_result"
    }
   ],
   "source": [
    "(Clumper(poke_dict)\n",
    " .keep(lambda d: 'Grass' in d['type'])\n",
    " .keep(lambda d: d['hp'] < 60)\n",
    " .blob)"
   ]
  },
  {
   "cell_type": "markdown",
   "metadata": {},
   "source": [
    "We can further modify the code so that we dont have to use mulitple keep() methods"
   ]
  },
  {
   "cell_type": "code",
   "execution_count": 13,
   "metadata": {},
   "outputs": [],
   "source": [
    "class Clumper:\n",
    "    def __init__(self, blob):\n",
    "        self.blob = blob\n",
    "    \n",
    "    def keep(self, *funcs):\n",
    "        data = self.blob\n",
    "        for func in funcs:\n",
    "            data = [d for d in data if func(d)]\n",
    "        return Clumper(data)"
   ]
  },
  {
   "cell_type": "markdown",
   "metadata": {},
   "source": [
    "Now we only need one keep method"
   ]
  },
  {
   "cell_type": "code",
   "execution_count": 14,
   "metadata": {},
   "outputs": [
    {
     "data": {
      "text/plain": [
       "[{'name': 'Bulbasaur',\n",
       "  'type': ['Grass', 'Poison'],\n",
       "  'total': 318,\n",
       "  'hp': 45,\n",
       "  'attack': 49},\n",
       " {'name': 'Oddish',\n",
       "  'type': ['Grass', 'Poison'],\n",
       "  'total': 320,\n",
       "  'hp': 45,\n",
       "  'attack': 50},\n",
       " {'name': 'Paras',\n",
       "  'type': ['Bug', 'Grass'],\n",
       "  'total': 285,\n",
       "  'hp': 35,\n",
       "  'attack': 70},\n",
       " {'name': 'Bellsprout',\n",
       "  'type': ['Grass', 'Poison'],\n",
       "  'total': 300,\n",
       "  'hp': 50,\n",
       "  'attack': 75},\n",
       " {'name': 'Chikorita',\n",
       "  'type': ['Grass'],\n",
       "  'total': 318,\n",
       "  'hp': 45,\n",
       "  'attack': 49},\n",
       " {'name': 'Hoppip',\n",
       "  'type': ['Grass', 'Flying'],\n",
       "  'total': 250,\n",
       "  'hp': 35,\n",
       "  'attack': 35},\n",
       " {'name': 'Skiploom',\n",
       "  'type': ['Grass', 'Flying'],\n",
       "  'total': 340,\n",
       "  'hp': 55,\n",
       "  'attack': 45},\n",
       " {'name': 'Sunkern', 'type': ['Grass'], 'total': 180, 'hp': 30, 'attack': 30},\n",
       " {'name': 'Treecko', 'type': ['Grass'], 'total': 310, 'hp': 40, 'attack': 45},\n",
       " {'name': 'Grovyle', 'type': ['Grass'], 'total': 405, 'hp': 50, 'attack': 65},\n",
       " {'name': 'Lotad',\n",
       "  'type': ['Water', 'Grass'],\n",
       "  'total': 220,\n",
       "  'hp': 40,\n",
       "  'attack': 30},\n",
       " {'name': 'Seedot', 'type': ['Grass'], 'total': 220, 'hp': 40, 'attack': 40},\n",
       " {'name': 'Roselia',\n",
       "  'type': ['Grass', 'Poison'],\n",
       "  'total': 400,\n",
       "  'hp': 50,\n",
       "  'attack': 60},\n",
       " {'name': 'Cacnea', 'type': ['Grass'], 'total': 335, 'hp': 50, 'attack': 85},\n",
       " {'name': 'Turtwig', 'type': ['Grass'], 'total': 318, 'hp': 55, 'attack': 68},\n",
       " {'name': 'Budew',\n",
       "  'type': ['Grass', 'Poison'],\n",
       "  'total': 280,\n",
       "  'hp': 40,\n",
       "  'attack': 30},\n",
       " {'name': 'Cherubi', 'type': ['Grass'], 'total': 275, 'hp': 45, 'attack': 35},\n",
       " {'name': 'RotomMow Rotom',\n",
       "  'type': ['Electric', 'Grass'],\n",
       "  'total': 520,\n",
       "  'hp': 50,\n",
       "  'attack': 65},\n",
       " {'name': 'Snivy', 'type': ['Grass'], 'total': 308, 'hp': 45, 'attack': 45},\n",
       " {'name': 'Pansage', 'type': ['Grass'], 'total': 316, 'hp': 50, 'attack': 53},\n",
       " {'name': 'Sewaddle',\n",
       "  'type': ['Bug', 'Grass'],\n",
       "  'total': 310,\n",
       "  'hp': 45,\n",
       "  'attack': 53},\n",
       " {'name': 'Swadloon',\n",
       "  'type': ['Bug', 'Grass'],\n",
       "  'total': 380,\n",
       "  'hp': 55,\n",
       "  'attack': 63},\n",
       " {'name': 'Cottonee',\n",
       "  'type': ['Grass', 'Fairy'],\n",
       "  'total': 280,\n",
       "  'hp': 40,\n",
       "  'attack': 27},\n",
       " {'name': 'Petilil', 'type': ['Grass'], 'total': 280, 'hp': 45, 'attack': 35},\n",
       " {'name': 'Ferroseed',\n",
       "  'type': ['Grass', 'Steel'],\n",
       "  'total': 305,\n",
       "  'hp': 44,\n",
       "  'attack': 50},\n",
       " {'name': 'Chespin', 'type': ['Grass'], 'total': 313, 'hp': 56, 'attack': 61},\n",
       " {'name': 'Phantump',\n",
       "  'type': ['Ghost', 'Grass'],\n",
       "  'total': 309,\n",
       "  'hp': 43,\n",
       "  'attack': 70},\n",
       " {'name': 'PumpkabooAverage Size',\n",
       "  'type': ['Ghost', 'Grass'],\n",
       "  'total': 335,\n",
       "  'hp': 49,\n",
       "  'attack': 66},\n",
       " {'name': 'PumpkabooSmall Size',\n",
       "  'type': ['Ghost', 'Grass'],\n",
       "  'total': 335,\n",
       "  'hp': 44,\n",
       "  'attack': 66},\n",
       " {'name': 'PumpkabooLarge Size',\n",
       "  'type': ['Ghost', 'Grass'],\n",
       "  'total': 335,\n",
       "  'hp': 54,\n",
       "  'attack': 66},\n",
       " {'name': 'PumpkabooSuper Size',\n",
       "  'type': ['Ghost', 'Grass'],\n",
       "  'total': 335,\n",
       "  'hp': 59,\n",
       "  'attack': 66},\n",
       " {'name': 'GourgeistSmall Size',\n",
       "  'type': ['Ghost', 'Grass'],\n",
       "  'total': 494,\n",
       "  'hp': 55,\n",
       "  'attack': 85}]"
      ]
     },
     "execution_count": 14,
     "metadata": {},
     "output_type": "execute_result"
    }
   ],
   "source": [
    "(Clumper(poke_dict)\n",
    " .keep(lambda d: 'Grass' in d['type'],\n",
    "       lambda d: d['hp'] < 60)\n",
    " .blob)"
   ]
  },
  {
   "cell_type": "markdown",
   "metadata": {},
   "source": [
    "Another thing we also want to do is create a subset of data where we can get ordered maximums or minimums"
   ]
  },
  {
   "cell_type": "code",
   "execution_count": 15,
   "metadata": {},
   "outputs": [],
   "source": [
    "class Clumper:\n",
    "    def __init__(self, blob):\n",
    "        self.blob = blob\n",
    "    \n",
    "    def keep(self, *funcs):\n",
    "        data = self.blob\n",
    "        for func in funcs:\n",
    "            data = [d for d in data if func(d)]\n",
    "        return Clumper(data)\n",
    "    \n",
    "    def head(self, n):\n",
    "        return Clumper([self.blob[i] for i in range(n)])\n",
    "    \n",
    "    def tail(self, n):\n",
    "        return Clumper([self.blob[-i] for i in range(1, n+1)])"
   ]
  },
  {
   "cell_type": "markdown",
   "metadata": {},
   "source": [
    "Now lets get the top 2 pokemon of our previous filters"
   ]
  },
  {
   "cell_type": "code",
   "execution_count": 16,
   "metadata": {},
   "outputs": [
    {
     "data": {
      "text/plain": [
       "[{'name': 'Bulbasaur',\n",
       "  'type': ['Grass', 'Poison'],\n",
       "  'total': 318,\n",
       "  'hp': 45,\n",
       "  'attack': 49},\n",
       " {'name': 'Oddish',\n",
       "  'type': ['Grass', 'Poison'],\n",
       "  'total': 320,\n",
       "  'hp': 45,\n",
       "  'attack': 50}]"
      ]
     },
     "execution_count": 16,
     "metadata": {},
     "output_type": "execute_result"
    }
   ],
   "source": [
    "(Clumper(poke_dict)\n",
    " .keep(lambda d: 'Grass' in d['type'],\n",
    "       lambda d: d['hp'] < 60)\n",
    " .head(2)\n",
    " .blob)"
   ]
  },
  {
   "cell_type": "markdown",
   "metadata": {},
   "source": [
    "lets get the final two"
   ]
  },
  {
   "cell_type": "code",
   "execution_count": 17,
   "metadata": {},
   "outputs": [
    {
     "data": {
      "text/plain": [
       "[{'name': 'GourgeistSmall Size',\n",
       "  'type': ['Ghost', 'Grass'],\n",
       "  'total': 494,\n",
       "  'hp': 55,\n",
       "  'attack': 85},\n",
       " {'name': 'PumpkabooSuper Size',\n",
       "  'type': ['Ghost', 'Grass'],\n",
       "  'total': 335,\n",
       "  'hp': 59,\n",
       "  'attack': 66}]"
      ]
     },
     "execution_count": 17,
     "metadata": {},
     "output_type": "execute_result"
    }
   ],
   "source": [
    "(Clumper(poke_dict)\n",
    " .keep(lambda d: 'Grass' in d['type'],\n",
    "       lambda d: d['hp'] < 60)\n",
    " .tail(2)\n",
    " .blob)"
   ]
  },
  {
   "cell_type": "markdown",
   "metadata": {},
   "source": [
    "Now lets add the option to only select certain keys instead of all the ones in the dictionary"
   ]
  },
  {
   "cell_type": "code",
   "execution_count": 20,
   "metadata": {},
   "outputs": [],
   "source": [
    "class Clumper:\n",
    "    def __init__(self, blob):\n",
    "        self.blob = blob\n",
    "    \n",
    "    def keep(self, *funcs):\n",
    "        data = self.blob\n",
    "        for func in funcs:\n",
    "            data = [d for d in data if func(d)]\n",
    "        return Clumper(data)\n",
    "    \n",
    "    def head(self, n):\n",
    "        return Clumper([self.blob[i] for i in range(n)])\n",
    "    \n",
    "    def tail(self, n):\n",
    "        return Clumper([self.blob[-i] for i in range(1, n+1)])\n",
    "    \n",
    "    def select(self, *keys):\n",
    "        return Clumper([{k: d[k] for k in keys} for d in self.blob])"
   ]
  },
  {
   "cell_type": "markdown",
   "metadata": {},
   "source": [
    "Now lets test this by only getting the name and hp of the pokemon"
   ]
  },
  {
   "cell_type": "code",
   "execution_count": 21,
   "metadata": {},
   "outputs": [
    {
     "data": {
      "text/plain": [
       "[{'name': 'GourgeistSmall Size', 'hp': 55},\n",
       " {'name': 'PumpkabooSuper Size', 'hp': 59}]"
      ]
     },
     "execution_count": 21,
     "metadata": {},
     "output_type": "execute_result"
    }
   ],
   "source": [
    "(Clumper(poke_dict)\n",
    " .keep(lambda d: 'Grass' in d['type'],\n",
    "       lambda d: d['hp'] < 60)\n",
    " .tail(2)\n",
    " .select('name', 'hp')\n",
    " .blob)"
   ]
  },
  {
   "cell_type": "markdown",
   "metadata": {},
   "source": [
    "Lets add the option to add new keys to the dictionary and also update existing key:value pairs"
   ]
  },
  {
   "cell_type": "code",
   "execution_count": 23,
   "metadata": {},
   "outputs": [],
   "source": [
    "class Clumper:\n",
    "    def __init__(self, blob):\n",
    "        self.blob = blob\n",
    "    \n",
    "    def keep(self, *funcs):\n",
    "        data = self.blob\n",
    "        for func in funcs:\n",
    "            data = [d for d in data if func(d)]\n",
    "        return Clumper(data)\n",
    "    \n",
    "    def head(self, n):\n",
    "        return Clumper([self.blob[i] for i in range(n)])\n",
    "    \n",
    "    def tail(self, n):\n",
    "        return Clumper([self.blob[-i] for i in range(1, n+1)])\n",
    "    \n",
    "    def select(self, *keys):\n",
    "        return Clumper([{k: d[k] for k in keys} for d in self.blob])\n",
    "    \n",
    "    def mutate(self, **kwargs):\n",
    "        data = self.blob\n",
    "        for key, func in kwargs.items():\n",
    "            for i in range (len(data)):\n",
    "                data[i][key] = func(data[i])\n",
    "        return Clumper(data)"
   ]
  },
  {
   "cell_type": "markdown",
   "metadata": {},
   "source": [
    "For the above code, the key word arguements allows it to accept multiple arugements. It is organized in a way so that it is the key and function. which is what we see iterated over the key word arguements. What the new code does is that it loops over all the data, finds the key and updates it with the new function/value"
   ]
  },
  {
   "cell_type": "code",
   "execution_count": 24,
   "metadata": {},
   "outputs": [
    {
     "data": {
      "text/plain": [
       "[{'name': 'GourgeistSmall Size', 'hp': 110, 'hp4': 440},\n",
       " {'name': 'PumpkabooSuper Size', 'hp': 118, 'hp4': 472}]"
      ]
     },
     "execution_count": 24,
     "metadata": {},
     "output_type": "execute_result"
    }
   ],
   "source": [
    "(Clumper(poke_dict)\n",
    " .keep(lambda d: 'Grass' in d['type'],\n",
    "       lambda d: d['hp'] < 60)\n",
    " .tail(2)\n",
    " .select('name', 'hp')\n",
    " .mutate(hp=lambda d: d['hp'] * 2,\n",
    "         hp4=lambda d: d['hp'] * 4)\n",
    " .blob)"
   ]
  },
  {
   "cell_type": "markdown",
   "metadata": {},
   "source": [
    "Python itself also allows us to be creative in different ways, such as with the sorted function below"
   ]
  },
  {
   "cell_type": "code",
   "execution_count": 25,
   "metadata": {},
   "outputs": [],
   "source": [
    "tuple_list = [(4, 3), (1, 2), (5, 10), (10, 2)]"
   ]
  },
  {
   "cell_type": "markdown",
   "metadata": {},
   "source": [
    "The sorted function organizes based on the first value of the tuples"
   ]
  },
  {
   "cell_type": "code",
   "execution_count": 26,
   "metadata": {},
   "outputs": [
    {
     "data": {
      "text/plain": [
       "[(1, 2), (4, 3), (5, 10), (10, 2)]"
      ]
     },
     "execution_count": 26,
     "metadata": {},
     "output_type": "execute_result"
    }
   ],
   "source": [
    "sorted(tuple_list)"
   ]
  },
  {
   "cell_type": "markdown",
   "metadata": {},
   "source": [
    "Now lets try and sort it by the second value in the tuples"
   ]
  },
  {
   "cell_type": "code",
   "execution_count": 27,
   "metadata": {},
   "outputs": [
    {
     "data": {
      "text/plain": [
       "[(1, 2), (10, 2), (4, 3), (5, 10)]"
      ]
     },
     "execution_count": 27,
     "metadata": {},
     "output_type": "execute_result"
    }
   ],
   "source": [
    "sorted(tuple_list, key=lambda t: t[1])"
   ]
  },
  {
   "cell_type": "markdown",
   "metadata": {},
   "source": [
    "Now lets try to apply the sorting/lambda in our class"
   ]
  },
  {
   "cell_type": "code",
   "execution_count": 29,
   "metadata": {},
   "outputs": [],
   "source": [
    "class Clumper:\n",
    "    def __init__(self, blob):\n",
    "        self.blob = blob\n",
    "    \n",
    "    def keep(self, *funcs):\n",
    "        data = self.blob\n",
    "        for func in funcs:\n",
    "            data = [d for d in data if func(d)]\n",
    "        return Clumper(data)\n",
    "    \n",
    "    def head(self, n):\n",
    "        return Clumper([self.blob[i] for i in range(n)])\n",
    "    \n",
    "    def tail(self, n):\n",
    "        return Clumper([self.blob[-i] for i in range(1, n+1)])\n",
    "    \n",
    "    def select(self, *keys):\n",
    "        return Clumper([{k: d[k] for k in keys} for d in self.blob])\n",
    "    \n",
    "    def mutate(self, **kwargs):\n",
    "        data = self.blob\n",
    "        for key, func in kwargs.items():\n",
    "            for i in range (len(data)):\n",
    "                data[i][key] = func(data[i])\n",
    "        return Clumper(data)\n",
    "    \n",
    "    def sort(self, key, reverse=False):\n",
    "        return Clumper(sorted(self.blob, key=key, reverse=reverse))"
   ]
  },
  {
   "cell_type": "code",
   "execution_count": 34,
   "metadata": {},
   "outputs": [
    {
     "data": {
      "text/plain": [
       "[{'name': 'Sunkern', 'hp': 30},\n",
       " {'name': 'Paras', 'hp': 35},\n",
       " {'name': 'Hoppip', 'hp': 35},\n",
       " {'name': 'Treecko', 'hp': 40},\n",
       " {'name': 'Bulbasaur', 'hp': 45},\n",
       " {'name': 'Oddish', 'hp': 45},\n",
       " {'name': 'Chikorita', 'hp': 45},\n",
       " {'name': 'Bellsprout', 'hp': 50},\n",
       " {'name': 'Grovyle', 'hp': 50},\n",
       " {'name': 'Skiploom', 'hp': 55}]"
      ]
     },
     "execution_count": 34,
     "metadata": {},
     "output_type": "execute_result"
    }
   ],
   "source": [
    "(Clumper(poke_dict)\n",
    " .keep(lambda d: 'Grass' in d['type'],\n",
    "       lambda d: d['hp'] < 60)\n",
    " .select('name', 'hp')\n",
    "  .head(10)\n",
    " .sort(lambda d: d['hp'])\n",
    " .blob)"
   ]
  },
  {
   "cell_type": "markdown",
   "metadata": {},
   "source": [
    "now lets try the reverse"
   ]
  },
  {
   "cell_type": "code",
   "execution_count": 33,
   "metadata": {},
   "outputs": [
    {
     "data": {
      "text/plain": [
       "[{'name': 'Skiploom', 'hp': 55},\n",
       " {'name': 'Bellsprout', 'hp': 50},\n",
       " {'name': 'Grovyle', 'hp': 50},\n",
       " {'name': 'Bulbasaur', 'hp': 45},\n",
       " {'name': 'Oddish', 'hp': 45},\n",
       " {'name': 'Chikorita', 'hp': 45},\n",
       " {'name': 'Treecko', 'hp': 40},\n",
       " {'name': 'Paras', 'hp': 35},\n",
       " {'name': 'Hoppip', 'hp': 35},\n",
       " {'name': 'Sunkern', 'hp': 30}]"
      ]
     },
     "execution_count": 33,
     "metadata": {},
     "output_type": "execute_result"
    }
   ],
   "source": [
    "(Clumper(poke_dict)\n",
    " .keep(lambda d: 'Grass' in d['type'],\n",
    "       lambda d: d['hp'] < 60)\n",
    " .select('name', 'hp')\n",
    " .head(10)\n",
    " .sort(lambda d: d['hp'], reverse=True)\n",
    " .blob)"
   ]
  },
  {
   "cell_type": "markdown",
   "metadata": {},
   "source": [
    "We can look at other ways to do this, but it is clear to see that it is not as intuitive to understand and it is not organized as well. Furthermore, in the class code, it is much more flexable that and intuitive to modify and change."
   ]
  },
  {
   "cell_type": "code",
   "execution_count": 35,
   "metadata": {},
   "outputs": [
    {
     "data": {
      "text/plain": [
       "[{'hp': 59, 'name': 'PumpkabooSuper Size'},\n",
       " {'hp': 56, 'name': 'Chespin'},\n",
       " {'hp': 55, 'name': 'Skiploom'},\n",
       " {'hp': 55, 'name': 'Turtwig'},\n",
       " {'hp': 55, 'name': 'Swadloon'},\n",
       " {'hp': 55, 'name': 'GourgeistSmall Size'},\n",
       " {'hp': 54, 'name': 'PumpkabooLarge Size'},\n",
       " {'hp': 50, 'name': 'Bellsprout'},\n",
       " {'hp': 50, 'name': 'Grovyle'},\n",
       " {'hp': 50, 'name': 'Roselia'},\n",
       " {'hp': 50, 'name': 'Cacnea'},\n",
       " {'hp': 50, 'name': 'RotomMow Rotom'},\n",
       " {'hp': 50, 'name': 'Pansage'},\n",
       " {'hp': 49, 'name': 'PumpkabooAverage Size'},\n",
       " {'hp': 45, 'name': 'Bulbasaur'},\n",
       " {'hp': 45, 'name': 'Oddish'},\n",
       " {'hp': 45, 'name': 'Chikorita'},\n",
       " {'hp': 45, 'name': 'Cherubi'}]"
      ]
     },
     "execution_count": 35,
     "metadata": {},
     "output_type": "execute_result"
    }
   ],
   "source": [
    "subset = [{'hp': d['hp'], 'name': d['name']}\n",
    "          for d in poke_dict\n",
    "          if ('Grass' in d['type']) & (d['hp'] < 60)]\n",
    "sorted_subset = sorted(subset, key=lambda d: d['hp'], reverse=True)\n",
    "sorted_subset[:18]"
   ]
  }
 ],
 "metadata": {
  "kernelspec": {
   "display_name": "venv",
   "language": "python",
   "name": "python3"
  },
  "language_info": {
   "codemirror_mode": {
    "name": "ipython",
    "version": 3
   },
   "file_extension": ".py",
   "mimetype": "text/x-python",
   "name": "python",
   "nbconvert_exporter": "python",
   "pygments_lexer": "ipython3",
   "version": "3.11.4"
  }
 },
 "nbformat": 4,
 "nbformat_minor": 2
}
