{
 "cells": [
  {
   "cell_type": "markdown",
   "metadata": {},
   "source": [
    "The following code sleeps for a random amount of time and then prints \"Done!\" after it wakes"
   ]
  },
  {
   "cell_type": "code",
   "execution_count": 10,
   "metadata": {},
   "outputs": [
    {
     "data": {
      "text/plain": [
       "'Done!'"
      ]
     },
     "execution_count": 10,
     "metadata": {},
     "output_type": "execute_result"
    }
   ],
   "source": [
    "import time\n",
    "import random\n",
    "\n",
    "def sleep_random():\n",
    "    time.sleep(random.random())\n",
    "    return \"Done!\"\n",
    "\n",
    "sleep_random()"
   ]
  },
  {
   "cell_type": "markdown",
   "metadata": {},
   "source": [
    "We can add a line of code called decorators that can add behaviors of the function.\n",
    "\n",
    "The following @stopwatch is a decorator that measures the amount of time that function took.\n",
    "\n",
    "Note: there is an error where my python library does not recognize the decorator"
   ]
  },
  {
   "cell_type": "code",
   "execution_count": 19,
   "metadata": {},
   "outputs": [
    {
     "data": {
      "text/plain": [
       "'Done!'"
      ]
     },
     "execution_count": 19,
     "metadata": {},
     "output_type": "execute_result"
    }
   ],
   "source": [
    "try:\n",
    "    @stopwatch\n",
    "    def sleep_random():\n",
    "        time.sleep(random.random())\n",
    "        return \"Done!\"\n",
    "except NameError:\n",
    "    pass\n",
    "\n",
    "sleep_random()"
   ]
  },
  {
   "cell_type": "markdown",
   "metadata": {},
   "source": [
    "We can actually write our own decorators"
   ]
  },
  {
   "cell_type": "markdown",
   "metadata": {},
   "source": [
    "First lets fo over some properties of functions:\n",
    "\n",
    "Functions can recieve functions as input"
   ]
  },
  {
   "cell_type": "code",
   "execution_count": 20,
   "metadata": {},
   "outputs": [
    {
     "data": {
      "text/plain": [
       "(3, -1)"
      ]
     },
     "execution_count": 20,
     "metadata": {},
     "output_type": "execute_result"
    }
   ],
   "source": [
    "def add(a, b):\n",
    "    return a + b\n",
    "\n",
    "def sub(a, b):\n",
    "    return a - b\n",
    "\n",
    "def apply(func, a, b):\n",
    "    return func(a,b)\n",
    "\n",
    "apply(add, 1, 2), apply(sub, 1, 2)"
   ]
  },
  {
   "cell_type": "markdown",
   "metadata": {},
   "source": [
    "Functions can also return functions as outputs"
   ]
  },
  {
   "cell_type": "code",
   "execution_count": 21,
   "metadata": {},
   "outputs": [
    {
     "data": {
      "text/plain": [
       "(9, 27)"
      ]
     },
     "execution_count": 21,
     "metadata": {},
     "output_type": "execute_result"
    }
   ],
   "source": [
    "def power(n):\n",
    "    def func(number):\n",
    "        return number**n\n",
    "    return func\n",
    "\n",
    "pow2 = power(2)\n",
    "pow3 = power(3)\n",
    "\n",
    "pow2(3), pow3(3)\n"
   ]
  },
  {
   "cell_type": "markdown",
   "metadata": {},
   "source": [
    "Now we can create our stopwatch decorator with the two ideas we mentioned above"
   ]
  },
  {
   "cell_type": "code",
   "execution_count": 22,
   "metadata": {},
   "outputs": [],
   "source": [
    "def stopwatch(f):\n",
    "    def func():\n",
    "        tic = time.time()\n",
    "        result = f()\n",
    "        print(f\"this function took: {time.time() - tic}\")\n",
    "        return result\n",
    "    return func\n",
    "\n",
    "def sleep_random():\n",
    "    time.sleep(random.random())\n",
    "    return \"Done!\"\n",
    "\n",
    "timed_sleep = stopwatch(sleep_random)"
   ]
  },
  {
   "cell_type": "code",
   "execution_count": 23,
   "metadata": {},
   "outputs": [
    {
     "data": {
      "text/plain": [
       "'Done!'"
      ]
     },
     "execution_count": 23,
     "metadata": {},
     "output_type": "execute_result"
    }
   ],
   "source": [
    "sleep_random()"
   ]
  },
  {
   "cell_type": "markdown",
   "metadata": {},
   "source": [
    "So now we can use functions to add behaviors to other functions"
   ]
  },
  {
   "cell_type": "code",
   "execution_count": 25,
   "metadata": {},
   "outputs": [
    {
     "name": "stdout",
     "output_type": "stream",
     "text": [
      "this function took: 0.8692836761474609\n"
     ]
    },
    {
     "data": {
      "text/plain": [
       "'Done!'"
      ]
     },
     "execution_count": 25,
     "metadata": {},
     "output_type": "execute_result"
    }
   ],
   "source": [
    "timed_sleep()"
   ]
  },
  {
   "cell_type": "markdown",
   "metadata": {},
   "source": [
    "To make our function work better and be more flexable, we can add arguements and key word arguements to the stopwatch function"
   ]
  },
  {
   "cell_type": "code",
   "execution_count": 30,
   "metadata": {},
   "outputs": [],
   "source": [
    "def stopwatch(f):\n",
    "    def func(*args, **kwargs):\n",
    "        tic = time.time()\n",
    "        result = f(*args, **kwargs)\n",
    "        print(f\"this function took: {time.time() - tic}\")\n",
    "        return result\n",
    "    return func\n",
    "\n",
    "def sleep_random(s=1):\n",
    "    time.sleep(s + random.random()/100)\n",
    "    return \"Done!\"\n",
    "\n",
    "timed_sleep = stopwatch(sleep_random)"
   ]
  },
  {
   "cell_type": "code",
   "execution_count": 31,
   "metadata": {},
   "outputs": [
    {
     "data": {
      "text/plain": [
       "'Done!'"
      ]
     },
     "execution_count": 31,
     "metadata": {},
     "output_type": "execute_result"
    }
   ],
   "source": [
    "sleep_random(s=2)"
   ]
  },
  {
   "cell_type": "code",
   "execution_count": 32,
   "metadata": {},
   "outputs": [
    {
     "name": "stdout",
     "output_type": "stream",
     "text": [
      "this function took: 2.009556770324707\n"
     ]
    },
    {
     "data": {
      "text/plain": [
       "'Done!'"
      ]
     },
     "execution_count": 32,
     "metadata": {},
     "output_type": "execute_result"
    }
   ],
   "source": [
    "timed_sleep(s=2)"
   ]
  },
  {
   "cell_type": "markdown",
   "metadata": {},
   "source": [
    "If we want to use the timed_sleep function more than the actual sleep_random function. Now we can introduce the decorator syntax '@'"
   ]
  },
  {
   "cell_type": "code",
   "execution_count": 33,
   "metadata": {},
   "outputs": [],
   "source": [
    "def stopwatch(f):\n",
    "    def func(*args, **kwargs):\n",
    "        tic = time.time()\n",
    "        result = f(*args, **kwargs)\n",
    "        print(f\"this function took: {time.time() - tic}\")\n",
    "        return result\n",
    "    return func\n",
    "\n",
    "@stopwatch\n",
    "def sleep_random(s=1):\n",
    "    time.sleep(s + random.random()/100)\n",
    "    return \"Done!\""
   ]
  },
  {
   "cell_type": "markdown",
   "metadata": {},
   "source": [
    "Now the function runs without the need to call the timed_function "
   ]
  },
  {
   "cell_type": "code",
   "execution_count": 34,
   "metadata": {},
   "outputs": [
    {
     "name": "stdout",
     "output_type": "stream",
     "text": [
      "this function took: 1.008159875869751\n",
      "this function took: 2.001110315322876\n"
     ]
    },
    {
     "data": {
      "text/plain": [
       "('Done!', 'Done!')"
      ]
     },
     "execution_count": 34,
     "metadata": {},
     "output_type": "execute_result"
    }
   ],
   "source": [
    "sleep_random(1), sleep_random(2)"
   ]
  },
  {
   "cell_type": "markdown",
   "metadata": {},
   "source": [
    "An important step in making these functions and their formating is adding docstrings that we can add to the help()\n",
    "\n",
    "help() actually calls the stopwatch function so the docstring we have in the sleep_random function wont be returned; but we can fix that by adding wraps()"
   ]
  },
  {
   "cell_type": "code",
   "execution_count": 39,
   "metadata": {},
   "outputs": [],
   "source": [
    "from functools import wraps\n",
    "\n",
    "def stopwatch(f):\n",
    "    @wraps(f)\n",
    "    def func(*args, **kwargs):\n",
    "        tic = time.time()\n",
    "        result = f(*args, **kwargs)\n",
    "        print(f\"this function took: {time.time() - tic}\")\n",
    "        return result\n",
    "    return func\n",
    "\n",
    "@stopwatch\n",
    "def sleep_random(s):\n",
    "    \"\"\"This function sleeps for at least 's' seconds.\"\"\"\n",
    "    time.sleep(s + random.random()/100)\n",
    "    return \"Done!\""
   ]
  },
  {
   "cell_type": "code",
   "execution_count": 40,
   "metadata": {},
   "outputs": [
    {
     "name": "stdout",
     "output_type": "stream",
     "text": [
      "Help on function sleep_random in module __main__:\n",
      "\n",
      "sleep_random(s)\n",
      "    This function sleeps for at least 's' seconds.\n",
      "\n"
     ]
    }
   ],
   "source": [
    "help(sleep_random)"
   ]
  },
  {
   "cell_type": "markdown",
   "metadata": {},
   "source": [
    "The following shows we can stack the decorators on top of each other. The order does matter"
   ]
  },
  {
   "cell_type": "code",
   "execution_count": 45,
   "metadata": {},
   "outputs": [
    {
     "name": "stdout",
     "output_type": "stream",
     "text": [
      "print-call 2 args: (1.5,)\n",
      "print-call 2 args: (1.5,)\n"
     ]
    },
    {
     "data": {
      "text/plain": [
       "'Done!'"
      ]
     },
     "execution_count": 45,
     "metadata": {},
     "output_type": "execute_result"
    }
   ],
   "source": [
    "def print_call1(f):\n",
    "    @wraps(f)\n",
    "    def func(*args, **kwargs):\n",
    "        print(f\"print-call 2 args: {args}\")\n",
    "        result = f(*args, **kwargs)\n",
    "        return result\n",
    "    return func\n",
    "\n",
    "def print_call2(f):\n",
    "    @wraps(f)\n",
    "    def func(*args, **kwargs):\n",
    "        print(f\"print-call 2 args: {args}\")\n",
    "        result = f(*args, **kwargs)\n",
    "        return result\n",
    "    return func\n",
    "\n",
    "@print_call1\n",
    "@print_call2\n",
    "def sleep_random(s):\n",
    "    \"\"\"This function sleeps for at least 's' seconds.\"\"\"\n",
    "    time.sleep(s + random.random()/100)\n",
    "    return \"Done!\"\n",
    "\n",
    "sleep_random(1.5)"
   ]
  },
  {
   "cell_type": "markdown",
   "metadata": {},
   "source": [
    "Lets make it so that we can customize the decorators further"
   ]
  },
  {
   "cell_type": "markdown",
   "metadata": {},
   "source": [
    "We can add customizing features to the decorator by wrapping the the stopwatch decorator where we can now add extra if statements so that the user can pass the,"
   ]
  },
  {
   "cell_type": "code",
   "execution_count": 48,
   "metadata": {},
   "outputs": [
    {
     "name": "stdout",
     "output_type": "stream",
     "text": [
      "call name: sleep_random time: 1.006127119064331\n"
     ]
    },
    {
     "data": {
      "text/plain": [
       "'Done!'"
      ]
     },
     "execution_count": 48,
     "metadata": {},
     "output_type": "execute_result"
    }
   ],
   "source": [
    "def loggg(show_time=True, show_name=True):\n",
    "    def stopwatch(f):\n",
    "        @wraps(f)\n",
    "        def func(*args, **kwargs):\n",
    "            tic = time.time()\n",
    "            result = f(*args, **kwargs)\n",
    "            log_text = \"call\"\n",
    "            if show_name:\n",
    "                log_text = f\"{log_text} name: {f.__name__}\"\n",
    "            if show_time:\n",
    "                log_text = f\"{log_text} time: {time.time() - tic}\"\n",
    "            print(log_text)\n",
    "            return result\n",
    "        return func\n",
    "    return stopwatch\n",
    "\n",
    "@loggg(show_time=True, show_name=True)\n",
    "def sleep_random(s):\n",
    "    \"\"\"This function sleeps for at least 's' seconds.\"\"\"\n",
    "    time.sleep(s + random.random()/100)\n",
    "    return \"Done!\"\n",
    "\n",
    "sleep_random(1)"
   ]
  },
  {
   "cell_type": "markdown",
   "metadata": {},
   "source": [
    "While we did allow the decorator to accomplish more with the extra parameters. we now need to add the paranthesis to make sure we can run it properly"
   ]
  },
  {
   "cell_type": "code",
   "execution_count": 49,
   "metadata": {},
   "outputs": [
    {
     "data": {
      "text/plain": [
       "<function __main__.loggg.<locals>.stopwatch.<locals>.func>"
      ]
     },
     "execution_count": 49,
     "metadata": {},
     "output_type": "execute_result"
    }
   ],
   "source": [
    "def loggg(show_time=True, show_name=True):\n",
    "    def stopwatch(f):\n",
    "        @wraps(f)\n",
    "        def func(*args, **kwargs):\n",
    "            tic = time.time()\n",
    "            result = f(*args, **kwargs)\n",
    "            log_text = \"call\"\n",
    "            if show_name:\n",
    "                log_text = f\"{log_text} name: {f.__name__}\"\n",
    "            if show_time:\n",
    "                log_text = f\"{log_text} time: {time.time() - tic}\"\n",
    "            print(log_text)\n",
    "            return result\n",
    "        return func\n",
    "    return stopwatch\n",
    "\n",
    "@loggg\n",
    "def sleep_random(s):\n",
    "    \"\"\"This function sleeps for at least 's' seconds.\"\"\"\n",
    "    time.sleep(s + random.random()/100)\n",
    "    return \"Done!\"\n",
    "\n",
    "sleep_random(1)"
   ]
  },
  {
   "cell_type": "markdown",
   "metadata": {},
   "source": [
    "Lets noe modify the code so that we can fix this"
   ]
  },
  {
   "cell_type": "code",
   "execution_count": 50,
   "metadata": {},
   "outputs": [
    {
     "name": "stdout",
     "output_type": "stream",
     "text": [
      "call name: sleep_random time: 1.0031464099884033\n"
     ]
    },
    {
     "data": {
      "text/plain": [
       "'Done!'"
      ]
     },
     "execution_count": 50,
     "metadata": {},
     "output_type": "execute_result"
    }
   ],
   "source": [
    "def loggg(func_in=None, *, show_time=True, show_name=True):\n",
    "    def stopwatch(f):\n",
    "        @wraps(f)\n",
    "        def func(*args, **kwargs):\n",
    "            tic = time.time()\n",
    "            result = f(*args, **kwargs)\n",
    "            log_text = \"call\"\n",
    "            if show_name:\n",
    "                log_text = f\"{log_text} name: {f.__name__}\"\n",
    "            if show_time:\n",
    "                log_text = f\"{log_text} time: {time.time() - tic}\"\n",
    "            print(log_text)\n",
    "            return result\n",
    "        return func\n",
    "\n",
    "    if func_in is None:\n",
    "        return stopwatch\n",
    "    else:\n",
    "        return stopwatch(func_in)\n",
    "\n",
    "@loggg\n",
    "def sleep_random(s):\n",
    "    \"\"\"This function sleeps for at least 's' seconds.\"\"\"\n",
    "    time.sleep(s + random.random()/100)\n",
    "    return \"Done!\"\n",
    "\n",
    "sleep_random(1)"
   ]
  },
  {
   "cell_type": "markdown",
   "metadata": {},
   "source": [
    "The star in the logg function creates a seperating line where everything to the right of it needs to be given as a key word arg while the left can be normal args. Now with the added func_in and if-else, we do not need the paranthesis"
   ]
  },
  {
   "cell_type": "markdown",
   "metadata": {},
   "source": [
    "Decorators can be very powerful, sepically when paring with the pandas library, to log the effects of pipeline steps"
   ]
  },
  {
   "cell_type": "code",
   "execution_count": 51,
   "metadata": {},
   "outputs": [],
   "source": [
    "import datetime as dt\n",
    "\n",
    "def log_step(func):\n",
    "    @wraps(func)\n",
    "    def wrapper(*args, **kwargs):\n",
    "        tic = dt.datetime.now()\n",
    "        result = func(*args, **kwargs)\n",
    "        time_taken = str(dt.datetime.now() - tic)\n",
    "        print(f\"just ran step {func.__name__} shape = {result.shape} took {time_taken}s\")\n",
    "        return result\n",
    "    return wrapper"
   ]
  },
  {
   "cell_type": "code",
   "execution_count": 62,
   "metadata": {},
   "outputs": [],
   "source": [
    "import pandas as pd\n",
    "\n",
    "df = pd.read_csv('data/bigmac.csv')\n",
    "\n",
    "@log_step\n",
    "def start_pipline(dataf):\n",
    "    return dataf.copy()\n",
    "\n",
    "@log_step\n",
    "def set_dtypes(dataf):\n",
    "    return (dataf\n",
    "            .assign(data=lambda d: pd.to_datetime(d['date']))\n",
    "            .sort_values(['currency_code', 'date']))\n",
    "    \n",
    "@log_step\n",
    "def remove_outliers(dataf, min_row_country=32):\n",
    "    countries = (dataf.groupby('currency_code')\n",
    "                 .agg(n=('name', 'count'))\n",
    "                 .loc[lambda d: d['n'] >= min_row_country]\n",
    "                 .index)\n",
    "    return (dataf\n",
    "            .loc[lambda d: d['currency_code'].isin(countries)])\n"
   ]
  },
  {
   "cell_type": "code",
   "execution_count": 63,
   "metadata": {},
   "outputs": [
    {
     "name": "stdout",
     "output_type": "stream",
     "text": [
      "just ran step start_pipline shape = (1330, 6) took 0:00:00s\n",
      "just ran step set_dtypes shape = (1330, 7) took 0:00:00.003002s\n",
      "just ran step remove_outliers shape = (1248, 7) took 0:00:00.003000s\n"
     ]
    }
   ],
   "source": [
    "df_new = (df\n",
    "          .pipe(start_pipline)\n",
    "          .pipe(set_dtypes)\n",
    "          .pipe(remove_outliers, min_row_country=20))"
   ]
  },
  {
   "cell_type": "markdown",
   "metadata": {},
   "source": [
    "Another useful decorator is the @retry, where it allows to to retry the code if it fails"
   ]
  },
  {
   "cell_type": "markdown",
   "metadata": {},
   "source": [
    "Can be used if the code requires internet, and the connection sometimes fails"
   ]
  },
  {
   "cell_type": "code",
   "execution_count": 66,
   "metadata": {},
   "outputs": [
    {
     "name": "stderr",
     "output_type": "stream",
     "text": [
      "WARNING:retry.api:OH NO!!, retrying in 0.5 seconds...\n",
      "WARNING:retry.api:OH NO!!, retrying in 0.5 seconds...\n"
     ]
    },
    {
     "data": {
      "text/plain": [
       "'FINISHED!!'"
      ]
     },
     "execution_count": 66,
     "metadata": {},
     "output_type": "execute_result"
    }
   ],
   "source": [
    "from retry import retry\n",
    "\n",
    "import logging\n",
    "logging.basicConfig()\n",
    "\n",
    "@retry(ValueError, tries=5, delay=0.5)\n",
    "def randomly_fails(p=0.5):\n",
    "    if random.random() < p:\n",
    "        raise ValueError(\"OH NO!!\")\n",
    "    return \"FINISHED!!\"\n",
    "\n",
    "randomly_fails()"
   ]
  }
 ],
 "metadata": {
  "kernelspec": {
   "display_name": "venv",
   "language": "python",
   "name": "python3"
  },
  "language_info": {
   "codemirror_mode": {
    "name": "ipython",
    "version": 3
   },
   "file_extension": ".py",
   "mimetype": "text/x-python",
   "name": "python",
   "nbconvert_exporter": "python",
   "pygments_lexer": "ipython3",
   "version": "3.11.4"
  }
 },
 "nbformat": 4,
 "nbformat_minor": 2
}
